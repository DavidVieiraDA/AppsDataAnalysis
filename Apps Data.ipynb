{
 "cells": [
  {
   "cell_type": "markdown",
   "metadata": {},
   "source": [
    "# Data Analysis Project: Ads and Apps\n",
    "\n",
    "## About: \n",
    "This is a Data Analytics project that is meant to answer questions about what apps are the ones that attract more users. The information comes from datasets tha can be found here:\n",
    "\n",
    "[Google Dataset](https://www.kaggle.com/lava18/google-play-store-apps)\n",
    "\n",
    "[Apple Dataset](https://www.kaggle.com/ramamet4/app-store-apple-data-set-10k-apps)\n",
    "\n",
    "It is recommended to visit the links above to get a better idea of what each column of the datasets means.\n",
    "\n"
   ]
  },
  {
   "cell_type": "code",
   "execution_count": 1,
   "metadata": {},
   "outputs": [],
   "source": [
    "from csv import reader\n",
    "\n",
    "# AppleStore Dataset\n",
    "file = open('C:/Users/david/Desktop/Autodidacta/Datasets/AppleStore.csv', encoding=\"utf8\")\n",
    "read_file = reader(file)\n",
    "applestore_apps = list(read_file)\n",
    "applestore_header = applestore_apps[0]\n",
    "applestore = applestore_apps[1:]\n",
    "\n",
    "#Google Play Dataset\n",
    "file = open('C:/Users/david/Desktop/Autodidacta/Datasets/googleplaystore.csv', encoding=\"utf8\")\n",
    "read_file = reader(file)\n",
    "google_apps = list(read_file)\n",
    "google_header = google_apps[0]\n",
    "google = google_apps[1:]\n",
    "\n",
    "\n"
   ]
  },
  {
   "cell_type": "code",
   "execution_count": 2,
   "metadata": {},
   "outputs": [
    {
     "name": "stdout",
     "output_type": "stream",
     "text": [
      "['284882215', 'Facebook', '389879808', 'USD', '0.0', '2974676', '212', '3.5', '3.5', '95.0', '4+', 'Social Networking', '37', '1', '29', '1']\n",
      "\n",
      "\n",
      "['389801252', 'Instagram', '113954816', 'USD', '0.0', '2161558', '1289', '4.5', '4.0', '10.23', '12+', 'Photo & Video', '37', '0', '29', '1']\n",
      "\n",
      "\n",
      "['529479190', 'Clash of Clans', '116476928', 'USD', '0.0', '2130805', '579', '4.5', '4.5', '9.24.12', '9+', 'Games', '38', '5', '18', '1']\n",
      "\n",
      "\n",
      "['420009108', 'Temple Run', '65921024', 'USD', '0.0', '1724546', '3842', '4.5', '4.0', '1.6.2', '9+', 'Games', '40', '5', '1', '1']\n",
      "\n",
      "\n",
      "Number of rows: 7197\n",
      "Number of columns: 16\n",
      "['Photo Editor & Candy Camera & Grid & ScrapBook', 'ART_AND_DESIGN', '4.1', '159', '19M', '10,000+', 'Free', '0', 'Everyone', 'Art & Design', 'January 7, 2018', '1.0.0', '4.0.3 and up']\n",
      "\n",
      "\n",
      "['Coloring book moana', 'ART_AND_DESIGN', '3.9', '967', '14M', '500,000+', 'Free', '0', 'Everyone', 'Art & Design;Pretend Play', 'January 15, 2018', '2.0.0', '4.0.3 and up']\n",
      "\n",
      "\n",
      "['U Launcher Lite – FREE Live Cool Themes, Hide Apps', 'ART_AND_DESIGN', '4.7', '87510', '8.7M', '5,000,000+', 'Free', '0', 'Everyone', 'Art & Design', 'August 1, 2018', '1.2.4', '4.0.3 and up']\n",
      "\n",
      "\n",
      "['Sketch - Draw & Paint', 'ART_AND_DESIGN', '4.5', '215644', '25M', '50,000,000+', 'Free', '0', 'Teen', 'Art & Design', 'June 8, 2018', 'Varies with device', '4.2 and up']\n",
      "\n",
      "\n",
      "Number of rows: 10841\n",
      "Number of columns: 13\n",
      "Apple Columns: \n",
      "\n",
      "['id', 'track_name', 'size_bytes', 'currency', 'price', 'rating_count_tot', 'rating_count_ver', 'user_rating', 'user_rating_ver', 'ver', 'cont_rating', 'prime_genre', 'sup_devices.num', 'ipadSc_urls.num', 'lang.num', 'vpp_lic']\n",
      "\n",
      "\n",
      "Google Columns: \n",
      "\n",
      "['App', 'Category', 'Rating', 'Reviews', 'Size', 'Installs', 'Type', 'Price', 'Content Rating', 'Genres', 'Last Updated', 'Current Ver', 'Android Ver']\n"
     ]
    }
   ],
   "source": [
    "# Exploration of the lists with the data in a more readable way\n",
    "def explore_data(dataset, start, end, rows_and_columns=False):\n",
    "    dataset_slice = dataset[start:end]    \n",
    "    for row in dataset_slice:\n",
    "        print(row)\n",
    "        print('\\n') # adds a new (empty) line after each row\n",
    "\n",
    "    if rows_and_columns:\n",
    "        print('Number of rows:', len(dataset))\n",
    "        print('Number of columns:', len(row))\n",
    "\n",
    "# Print the first rows, the number of rows and number of columns\n",
    "explore_data(applestore, 0, 4, True)\n",
    "explore_data(google, 0, 4, True)\n",
    "\n",
    "#Columns Names\n",
    "print(\"Apple Columns: \\n\")\n",
    "print(applestore_header)\n",
    "print(\"\\n\")\n",
    "print(\"Google Columns: \\n\")\n",
    "print(google_header)"
   ]
  },
  {
   "cell_type": "markdown",
   "metadata": {},
   "source": [
    "For out purpose the columns that can be of use are:\n",
    "\n",
    "For Apple:\n",
    "* track_name\n",
    "* currency\n",
    "* price\n",
    "* rating_count_tot\n",
    "* rating_count_tot_ver\n",
    "* prime_genre\n",
    "\n",
    "\n",
    "For Google:\n",
    "* App\n",
    "* Category\n",
    "* Reviews\n",
    "* Genres\n",
    "* Installs"
   ]
  },
  {
   "cell_type": "markdown",
   "metadata": {},
   "source": [
    "In the [discussion](https://www.kaggle.com/lava18/google-play-store-apps/discussion) of the google data set a row with an empty column is reported in position 10472 (With no header). There are come duplicates aswell.\n",
    "\n",
    "The apple dataset apparently has no reported errors. This can be checked in the [discussion](https://www.kaggle.com/ramamet4/app-store-apple-data-set-10k-apps/discussion) for this data set."
   ]
  },
  {
   "cell_type": "code",
   "execution_count": 3,
   "metadata": {},
   "outputs": [
    {
     "name": "stdout",
     "output_type": "stream",
     "text": [
      "['Life Made WI-Fi Touchscreen Photo Frame', '1.9', '19', '3.0M', '1,000+', 'Free', '0', 'Everyone', '', 'February 11, 2018', '1.0.19', '4.0 and up']\n",
      "['osmino Wi-Fi: free WiFi', 'TOOLS', '4.2', '134203', '4.1M', '10,000,000+', 'Free', '0', 'Everyone', 'Tools', 'August 7, 2018', '6.06.14', '4.4 and up']\n"
     ]
    }
   ],
   "source": [
    "# Comparation of a reported row with error\n",
    "print(google[10472])\n",
    "print(google[10473])\n",
    "\n",
    "# Delete the row with error\n",
    "del google[10472]\n"
   ]
  },
  {
   "cell_type": "markdown",
   "metadata": {},
   "source": [
    "The Google Play Apps dataset has many duplicate entries, so it is ideal to get rid of those. The main difference between reapeted entries is the number of reviews, so if we want the most recent entry we are going to want the one with most reviews."
   ]
  },
  {
   "cell_type": "code",
   "execution_count": 4,
   "metadata": {},
   "outputs": [
    {
     "name": "stdout",
     "output_type": "stream",
     "text": [
      "1181\n"
     ]
    }
   ],
   "source": [
    "#Count the number of duplicates\n",
    "unique_entries = []\n",
    "repeated_entries = []\n",
    "for entry in google:\n",
    "    name = entry[0]\n",
    "    if name in unique_entries:\n",
    "        repeated_entries.append(name)\n",
    "    else:\n",
    "        unique_entries.append(name)\n",
    "print(len(repeated_entries))"
   ]
  },
  {
   "cell_type": "markdown",
   "metadata": {},
   "source": [
    "So, now we know there are 1181 duplicates, we want to remove them. This won't be a random operation, because, as we know from before we want the newest entry of the duplicate, so this will be our criterion of deletion."
   ]
  },
  {
   "cell_type": "code",
   "execution_count": 5,
   "metadata": {},
   "outputs": [
    {
     "name": "stdout",
     "output_type": "stream",
     "text": [
      "9659\n",
      "9659\n"
     ]
    }
   ],
   "source": [
    "#Find the highest reviews for each app\n",
    "apps_reviews = {}\n",
    "\n",
    "for entry in google:\n",
    "    name = entry[0]\n",
    "    review = float(entry[3])\n",
    "    if name in apps_reviews and review > apps_reviews[name]:\n",
    "        apps_reviews[name] = review\n",
    "    elif name not in apps_reviews:\n",
    "        apps_reviews[name] = review\n",
    "#To see if the number of elements saved is the same than the length of the data set - 1181\n",
    "print(len(apps_reviews))\n",
    "print(len(google) - 1181)"
   ]
  },
  {
   "cell_type": "markdown",
   "metadata": {},
   "source": [
    "The method used for the cleaning is having 2 lists, one that will store the rows with the highest reviews and the other wiht the names of the apps already added, this for the cases in which the app is repeated with the highest reviews number. Then we loop inside the google dataset and add the row to clean_google and name to added only if the value of reviews is the max one and the name of the app is not in added. "
   ]
  },
  {
   "cell_type": "code",
   "execution_count": 6,
   "metadata": {},
   "outputs": [],
   "source": [
    "clean_google = []\n",
    "added = []\n",
    "for app in google:\n",
    "    name = app[0]\n",
    "    reviews = float(app[3])\n",
    "    if reviews == apps_reviews[name] and name not in added:\n",
    "        clean_google.append(app)\n",
    "        added.append(name)\n",
    "\n",
    "\n"
   ]
  },
  {
   "cell_type": "markdown",
   "metadata": {},
   "source": [
    "Let's check the resultant list of lists"
   ]
  },
  {
   "cell_type": "code",
   "execution_count": 7,
   "metadata": {},
   "outputs": [
    {
     "name": "stdout",
     "output_type": "stream",
     "text": [
      "['Photo Editor & Candy Camera & Grid & ScrapBook', 'ART_AND_DESIGN', '4.1', '159', '19M', '10,000+', 'Free', '0', 'Everyone', 'Art & Design', 'January 7, 2018', '1.0.0', '4.0.3 and up']\n",
      "\n",
      "\n",
      "['U Launcher Lite – FREE Live Cool Themes, Hide Apps', 'ART_AND_DESIGN', '4.7', '87510', '8.7M', '5,000,000+', 'Free', '0', 'Everyone', 'Art & Design', 'August 1, 2018', '1.2.4', '4.0.3 and up']\n",
      "\n",
      "\n",
      "['Sketch - Draw & Paint', 'ART_AND_DESIGN', '4.5', '215644', '25M', '50,000,000+', 'Free', '0', 'Teen', 'Art & Design', 'June 8, 2018', 'Varies with device', '4.2 and up']\n",
      "\n",
      "\n",
      "['Pixel Draw - Number Art Coloring Book', 'ART_AND_DESIGN', '4.3', '967', '2.8M', '100,000+', 'Free', '0', 'Everyone', 'Art & Design;Creativity', 'June 20, 2018', '1.1', '4.4 and up']\n",
      "\n",
      "\n",
      "['Paper flowers instructions', 'ART_AND_DESIGN', '4.4', '167', '5.6M', '50,000+', 'Free', '0', 'Everyone', 'Art & Design', 'March 26, 2017', '1.0', '2.3 and up']\n",
      "\n",
      "\n",
      "Number of rows: 9659\n",
      "Number of columns: 13\n"
     ]
    }
   ],
   "source": [
    "explore_data(clean_google, 0, 5, True)"
   ]
  },
  {
   "cell_type": "markdown",
   "metadata": {},
   "source": [
    "Next, we have to consider that this analysis is for apps that are for English speakers and there are apps that are for other languages that are not in our apps scope, so we shall remove them. Let's write a function for character detection.\n",
    "\n",
    "What this function will do is:\n",
    "\n",
    "Detects whether a character belongs to the set of common English characters or not. If the number is equal to or less than 127, then the character belongs to the set of common English characters."
   ]
  },
  {
   "cell_type": "code",
   "execution_count": 8,
   "metadata": {},
   "outputs": [],
   "source": [
    "def detect_characters(string):\n",
    "    for character in string:\n",
    "        if ord(character) > 127:\n",
    "            return False\n",
    "    return True"
   ]
  },
  {
   "cell_type": "markdown",
   "metadata": {},
   "source": [
    "This works because it tests if a string has characters greater than 127 which is out of the range of numbers assigned to characters that are between the range for English speakers common characters.Let's test the function with the strings: \n",
    "\n",
    "* 'Instagram'\n",
    "* '爱奇艺PPS -《欢乐颂2》电视剧热播'\n",
    "* 'Docs To Go™ Free Office Suite'\n",
    "* 'Instachat 😜'"
   ]
  },
  {
   "cell_type": "code",
   "execution_count": 9,
   "metadata": {},
   "outputs": [
    {
     "name": "stdout",
     "output_type": "stream",
     "text": [
      "True\n",
      "False\n",
      "False\n",
      "False\n"
     ]
    }
   ],
   "source": [
    "print(detect_characters('Instagram'))\n",
    "print(detect_characters('爱奇艺PPS -《欢乐颂2》电视剧热播'))\n",
    "print(detect_characters('Docs To Go™ Free Office Suite'))\n",
    "print(detect_characters('Instachat 😜'))\n"
   ]
  },
  {
   "cell_type": "markdown",
   "metadata": {},
   "source": [
    "Som English apps use characters that are outside the range, like emojis, so we have to minimize this loss because these are apps that have value for us. Let's say that we can accept apps with 3 or less characters outside the range and change our function."
   ]
  },
  {
   "cell_type": "code",
   "execution_count": 10,
   "metadata": {},
   "outputs": [],
   "source": [
    "def detect_characters(string):\n",
    "    ascii_counter = 0\n",
    "    for character in string:\n",
    "        if ord(character) > 127:\n",
    "            ascii_counter += 1\n",
    "    if ascii_counter > 3:\n",
    "        return False\n",
    "    else:\n",
    "        return True"
   ]
  },
  {
   "cell_type": "markdown",
   "metadata": {},
   "source": [
    "Let's test with the same strings"
   ]
  },
  {
   "cell_type": "code",
   "execution_count": 11,
   "metadata": {},
   "outputs": [
    {
     "name": "stdout",
     "output_type": "stream",
     "text": [
      "True\n",
      "False\n",
      "True\n",
      "True\n"
     ]
    }
   ],
   "source": [
    "print(detect_characters('Instagram'))\n",
    "print(detect_characters('爱奇艺PPS -《欢乐颂2》电视剧热播'))\n",
    "print(detect_characters('Docs To Go™ Free Office Suite'))\n",
    "print(detect_characters('Instachat 😜'))"
   ]
  },
  {
   "cell_type": "markdown",
   "metadata": {},
   "source": [
    "With this we mitigated the loss of useful apps. Now let's use our new function to filter the datasets\n",
    "\n"
   ]
  },
  {
   "cell_type": "code",
   "execution_count": 12,
   "metadata": {},
   "outputs": [],
   "source": [
    "#Filter the clean_google dataset\n",
    "english_google = []\n",
    "for app in clean_google:\n",
    "    name = app[0]\n",
    "    if detect_characters(name):\n",
    "        english_google.append(app)\n",
    "\n",
    "#Filter the applestore data set\n",
    "english_apple = []\n",
    "for app in applestore:\n",
    "    name = app[0]\n",
    "    if detect_characters(name):\n",
    "        english_apple.append(app)\n"
   ]
  },
  {
   "cell_type": "markdown",
   "metadata": {},
   "source": [
    "Let's explore the resulting data sets and see the remaining apps.\n"
   ]
  },
  {
   "cell_type": "code",
   "execution_count": 13,
   "metadata": {},
   "outputs": [
    {
     "name": "stdout",
     "output_type": "stream",
     "text": [
      "['Photo Editor & Candy Camera & Grid & ScrapBook', 'ART_AND_DESIGN', '4.1', '159', '19M', '10,000+', 'Free', '0', 'Everyone', 'Art & Design', 'January 7, 2018', '1.0.0', '4.0.3 and up']\n",
      "\n",
      "\n",
      "['U Launcher Lite – FREE Live Cool Themes, Hide Apps', 'ART_AND_DESIGN', '4.7', '87510', '8.7M', '5,000,000+', 'Free', '0', 'Everyone', 'Art & Design', 'August 1, 2018', '1.2.4', '4.0.3 and up']\n",
      "\n",
      "\n",
      "['Sketch - Draw & Paint', 'ART_AND_DESIGN', '4.5', '215644', '25M', '50,000,000+', 'Free', '0', 'Teen', 'Art & Design', 'June 8, 2018', 'Varies with device', '4.2 and up']\n",
      "\n",
      "\n",
      "Number of rows: 9614\n",
      "Number of columns: 13\n",
      "['284882215', 'Facebook', '389879808', 'USD', '0.0', '2974676', '212', '3.5', '3.5', '95.0', '4+', 'Social Networking', '37', '1', '29', '1']\n",
      "\n",
      "\n",
      "['389801252', 'Instagram', '113954816', 'USD', '0.0', '2161558', '1289', '4.5', '4.0', '10.23', '12+', 'Photo & Video', '37', '0', '29', '1']\n",
      "\n",
      "\n",
      "['529479190', 'Clash of Clans', '116476928', 'USD', '0.0', '2130805', '579', '4.5', '4.5', '9.24.12', '9+', 'Games', '38', '5', '18', '1']\n",
      "\n",
      "\n",
      "Number of rows: 7197\n",
      "Number of columns: 16\n"
     ]
    }
   ],
   "source": [
    "explore_data(english_google, 0, 3, True)\n",
    "explore_data(english_apple, 0, 3, True)"
   ]
  },
  {
   "cell_type": "markdown",
   "metadata": {},
   "source": [
    "Now we are going to isolate only the free apps as our last data cleaning step.\n"
   ]
  },
  {
   "cell_type": "code",
   "execution_count": 14,
   "metadata": {},
   "outputs": [
    {
     "name": "stdout",
     "output_type": "stream",
     "text": [
      "8864\n",
      "4056\n"
     ]
    }
   ],
   "source": [
    "free_google = []\n",
    "for app in english_google:\n",
    "    price = app[7]\n",
    "    if price == '0':\n",
    "        free_google.append(app)\n",
    "\n",
    "free_apple = []\n",
    "for app in english_apple:\n",
    "    price = app[4]\n",
    "    if price == '0.0':\n",
    "        free_apple.append(app)\n",
    "print(len(free_google))\n",
    "print(len(free_apple))\n"
   ]
  },
  {
   "cell_type": "markdown",
   "metadata": {},
   "source": [
    "Now that we:\n",
    "* Removed inaccurate data\n",
    "* Removed duplicate app entries\n",
    "* Removed non-English apps\n",
    "* Isolated the free apps\n",
    "\n",
    "Our aim is to determine the kinds of apps that are likely to attract more users. First we want to find app profiles that are succesful both in the AppleStore and Google Play so let's begin the analysis by getting a sense of what are the most common genres for each market. For this, we'll need to build frequency tables for a few columns in our data sets.\n",
    "\n",
    "Let's create some functions that will minimize the work of creating the frequency tables and analyzing them."
   ]
  },
  {
   "cell_type": "code",
   "execution_count": 15,
   "metadata": {},
   "outputs": [],
   "source": [
    "#Function for getting a frequency table with percentages\n",
    "def create_freqtable(dataset, index):\n",
    "    freq_table = {}\n",
    "    for app in dataset:\n",
    "        column = app[index]\n",
    "        if column in freq_table:\n",
    "            freq_table[column] += 1\n",
    "        else:\n",
    "            freq_table[column] = 1\n",
    "    percentages = {}        \n",
    "    for key in freq_table:\n",
    "        percentages[key] = (freq_table[key]/len(dataset))*100\n",
    "    return percentages\n",
    "\n",
    "#Function to sort frequency tables\n",
    "def display_table(dataset, index):\n",
    "    table = create_freqtable(dataset, index)\n",
    "    table_display = []\n",
    "    for key in table:\n",
    "        key_val_as_tuple = (table[key], key)\n",
    "        table_display.append(key_val_as_tuple)\n",
    "\n",
    "    table_sorted = sorted(table_display, reverse = True)\n",
    "    for entry in table_sorted:\n",
    "        print(entry[1], ':', entry[0])\n",
    "        "
   ]
  },
  {
   "cell_type": "markdown",
   "metadata": {},
   "source": [
    "Now let's try our function for the columns Genre, Category and prime_genre and make analysis. Is important to remember our scope, which is free english-speaking apps, so the information analyzed here can not be generalized for all the App Store or Google play."
   ]
  },
  {
   "cell_type": "code",
   "execution_count": 16,
   "metadata": {
    "scrolled": false
   },
   "outputs": [
    {
     "name": "stdout",
     "output_type": "stream",
     "text": [
      "prime_genre Column\n",
      "Games : 55.64595660749507\n",
      "Entertainment : 8.234714003944774\n",
      "Photo & Video : 4.117357001972387\n",
      "Social Networking : 3.5256410256410255\n",
      "Education : 3.2544378698224854\n",
      "Shopping : 2.983234714003945\n",
      "Utilities : 2.687376725838264\n",
      "Lifestyle : 2.3175542406311638\n",
      "Finance : 2.0710059171597637\n",
      "Sports : 1.947731755424063\n",
      "Health & Fitness : 1.8737672583826428\n",
      "Music : 1.6518737672583828\n",
      "Book : 1.6272189349112427\n",
      "Productivity : 1.5285996055226825\n",
      "News : 1.4299802761341223\n",
      "Travel : 1.3806706114398422\n",
      "Food & Drink : 1.0601577909270217\n",
      "Weather : 0.7642998027613412\n",
      "Reference : 0.4930966469428008\n",
      "Navigation : 0.4930966469428008\n",
      "Business : 0.4930966469428008\n",
      "Catalogs : 0.22189349112426035\n",
      "Medical : 0.19723865877712032\n"
     ]
    }
   ],
   "source": [
    "print('prime_genre Column')\n",
    "display_table(free_apple, 11)\n"
   ]
  },
  {
   "cell_type": "markdown",
   "metadata": {},
   "source": [
    "We are going to answer the next questions for the AppStore:\n",
    "* What is the most common genre? What is the runner-up?\n",
    "As we can see the most common genre in the appstore is Games with a grand 55.64% of the apps. The runner up would be Entertainment apps with 8.23%. \n",
    "* What is the general impression — are most of the apps designed for practical purposes (education, shopping, utilities, productivity, lifestyle) or more for entertainment (games, photo and video, social networking, sports, music)?\n",
    "If we add up the percentages from each category we can see that the great majority of apps are designed for entertainment purposes while the minority is for practical purposes. \n",
    "* Can you recommend an app profile for the App Store market based on this frequency table alone? If there's a large number of apps for a particular genre, does that also imply that apps of that genre generally have a large number of users?\n",
    "So summarizing, the majority of app offer in the AppStore is for fun, but this says only that there is great offer of this kind of app, but we don't know yet what is the demand of the users, therefore we can't know with this information which type of app has the most users.\n",
    "\n",
    "Now let's analyze the information about google Play.\n"
   ]
  },
  {
   "cell_type": "code",
   "execution_count": 17,
   "metadata": {},
   "outputs": [
    {
     "name": "stdout",
     "output_type": "stream",
     "text": [
      "Category Column\n",
      "FAMILY : 18.907942238267147\n",
      "GAME : 9.724729241877256\n",
      "TOOLS : 8.461191335740072\n",
      "BUSINESS : 4.591606498194946\n",
      "LIFESTYLE : 3.9034296028880866\n",
      "PRODUCTIVITY : 3.892148014440433\n",
      "FINANCE : 3.7003610108303246\n",
      "MEDICAL : 3.531137184115524\n",
      "SPORTS : 3.395758122743682\n",
      "PERSONALIZATION : 3.3167870036101084\n",
      "COMMUNICATION : 3.2378158844765346\n",
      "HEALTH_AND_FITNESS : 3.0798736462093865\n",
      "PHOTOGRAPHY : 2.944494584837545\n",
      "NEWS_AND_MAGAZINES : 2.7978339350180503\n",
      "SOCIAL : 2.6624548736462095\n",
      "TRAVEL_AND_LOCAL : 2.33528880866426\n",
      "SHOPPING : 2.2450361010830324\n",
      "BOOKS_AND_REFERENCE : 2.1435018050541514\n",
      "DATING : 1.861462093862816\n",
      "VIDEO_PLAYERS : 1.7937725631768955\n",
      "MAPS_AND_NAVIGATION : 1.3989169675090252\n",
      "FOOD_AND_DRINK : 1.2409747292418771\n",
      "EDUCATION : 1.1620036101083033\n",
      "ENTERTAINMENT : 0.9589350180505415\n",
      "LIBRARIES_AND_DEMO : 0.9363718411552346\n",
      "AUTO_AND_VEHICLES : 0.9250902527075812\n",
      "HOUSE_AND_HOME : 0.8235559566787004\n",
      "WEATHER : 0.8009927797833934\n",
      "EVENTS : 0.7107400722021661\n",
      "PARENTING : 0.6543321299638989\n",
      "ART_AND_DESIGN : 0.6430505415162455\n",
      "COMICS : 0.6204873646209386\n",
      "BEAUTY : 0.5979241877256317\n"
     ]
    }
   ],
   "source": [
    "print('Category Column')\n",
    "display_table(free_google, 1)\n"
   ]
  },
  {
   "cell_type": "code",
   "execution_count": 18,
   "metadata": {},
   "outputs": [
    {
     "name": "stdout",
     "output_type": "stream",
     "text": [
      "Genre Column\n",
      "Tools : 8.449909747292418\n",
      "Entertainment : 6.069494584837545\n",
      "Education : 5.347472924187725\n",
      "Business : 4.591606498194946\n",
      "Productivity : 3.892148014440433\n",
      "Lifestyle : 3.892148014440433\n",
      "Finance : 3.7003610108303246\n",
      "Medical : 3.531137184115524\n",
      "Sports : 3.463447653429603\n",
      "Personalization : 3.3167870036101084\n",
      "Communication : 3.2378158844765346\n",
      "Action : 3.1024368231046933\n",
      "Health & Fitness : 3.0798736462093865\n",
      "Photography : 2.944494584837545\n",
      "News & Magazines : 2.7978339350180503\n",
      "Social : 2.6624548736462095\n",
      "Travel & Local : 2.3240072202166067\n",
      "Shopping : 2.2450361010830324\n",
      "Books & Reference : 2.1435018050541514\n",
      "Simulation : 2.0419675090252705\n",
      "Dating : 1.861462093862816\n",
      "Arcade : 1.8501805054151623\n",
      "Video Players & Editors : 1.7712093862815883\n",
      "Casual : 1.7599277978339352\n",
      "Maps & Navigation : 1.3989169675090252\n",
      "Food & Drink : 1.2409747292418771\n",
      "Puzzle : 1.128158844765343\n",
      "Racing : 0.9927797833935018\n",
      "Role Playing : 0.9363718411552346\n",
      "Libraries & Demo : 0.9363718411552346\n",
      "Auto & Vehicles : 0.9250902527075812\n",
      "Strategy : 0.9138086642599278\n",
      "House & Home : 0.8235559566787004\n",
      "Weather : 0.8009927797833934\n",
      "Events : 0.7107400722021661\n",
      "Adventure : 0.6768953068592057\n",
      "Comics : 0.6092057761732852\n",
      "Beauty : 0.5979241877256317\n",
      "Art & Design : 0.5979241877256317\n",
      "Parenting : 0.4963898916967509\n",
      "Card : 0.45126353790613716\n",
      "Casino : 0.42870036101083037\n",
      "Trivia : 0.41741877256317694\n",
      "Educational;Education : 0.39485559566787\n",
      "Board : 0.3835740072202166\n",
      "Educational : 0.3722924187725632\n",
      "Education;Education : 0.33844765342960287\n",
      "Word : 0.2594765342960289\n",
      "Casual;Pretend Play : 0.236913357400722\n",
      "Music : 0.2030685920577617\n",
      "Racing;Action & Adventure : 0.16922382671480143\n",
      "Puzzle;Brain Games : 0.16922382671480143\n",
      "Entertainment;Music & Video : 0.16922382671480143\n",
      "Casual;Brain Games : 0.13537906137184114\n",
      "Casual;Action & Adventure : 0.13537906137184114\n",
      "Arcade;Action & Adventure : 0.12409747292418773\n",
      "Action;Action & Adventure : 0.10153429602888085\n",
      "Educational;Pretend Play : 0.09025270758122744\n",
      "Simulation;Action & Adventure : 0.078971119133574\n",
      "Parenting;Education : 0.078971119133574\n",
      "Entertainment;Brain Games : 0.078971119133574\n",
      "Board;Brain Games : 0.078971119133574\n",
      "Parenting;Music & Video : 0.06768953068592057\n",
      "Educational;Brain Games : 0.06768953068592057\n",
      "Casual;Creativity : 0.06768953068592057\n",
      "Art & Design;Creativity : 0.06768953068592057\n",
      "Education;Pretend Play : 0.056407942238267145\n",
      "Role Playing;Pretend Play : 0.04512635379061372\n",
      "Education;Creativity : 0.04512635379061372\n",
      "Role Playing;Action & Adventure : 0.033844765342960284\n",
      "Puzzle;Action & Adventure : 0.033844765342960284\n",
      "Entertainment;Creativity : 0.033844765342960284\n",
      "Entertainment;Action & Adventure : 0.033844765342960284\n",
      "Educational;Creativity : 0.033844765342960284\n",
      "Educational;Action & Adventure : 0.033844765342960284\n",
      "Education;Music & Video : 0.033844765342960284\n",
      "Education;Brain Games : 0.033844765342960284\n",
      "Education;Action & Adventure : 0.033844765342960284\n",
      "Adventure;Action & Adventure : 0.033844765342960284\n",
      "Video Players & Editors;Music & Video : 0.02256317689530686\n",
      "Sports;Action & Adventure : 0.02256317689530686\n",
      "Simulation;Pretend Play : 0.02256317689530686\n",
      "Puzzle;Creativity : 0.02256317689530686\n",
      "Music;Music & Video : 0.02256317689530686\n",
      "Entertainment;Pretend Play : 0.02256317689530686\n",
      "Casual;Education : 0.02256317689530686\n",
      "Board;Action & Adventure : 0.02256317689530686\n",
      "Video Players & Editors;Creativity : 0.01128158844765343\n",
      "Trivia;Education : 0.01128158844765343\n",
      "Travel & Local;Action & Adventure : 0.01128158844765343\n",
      "Tools;Education : 0.01128158844765343\n",
      "Strategy;Education : 0.01128158844765343\n",
      "Strategy;Creativity : 0.01128158844765343\n",
      "Strategy;Action & Adventure : 0.01128158844765343\n",
      "Simulation;Education : 0.01128158844765343\n",
      "Role Playing;Brain Games : 0.01128158844765343\n",
      "Racing;Pretend Play : 0.01128158844765343\n",
      "Puzzle;Education : 0.01128158844765343\n",
      "Parenting;Brain Games : 0.01128158844765343\n",
      "Music & Audio;Music & Video : 0.01128158844765343\n",
      "Lifestyle;Pretend Play : 0.01128158844765343\n",
      "Lifestyle;Education : 0.01128158844765343\n",
      "Health & Fitness;Education : 0.01128158844765343\n",
      "Health & Fitness;Action & Adventure : 0.01128158844765343\n",
      "Entertainment;Education : 0.01128158844765343\n",
      "Communication;Creativity : 0.01128158844765343\n",
      "Comics;Creativity : 0.01128158844765343\n",
      "Casual;Music & Video : 0.01128158844765343\n",
      "Card;Action & Adventure : 0.01128158844765343\n",
      "Books & Reference;Education : 0.01128158844765343\n",
      "Art & Design;Pretend Play : 0.01128158844765343\n",
      "Art & Design;Action & Adventure : 0.01128158844765343\n",
      "Arcade;Pretend Play : 0.01128158844765343\n",
      "Adventure;Education : 0.01128158844765343\n"
     ]
    }
   ],
   "source": [
    "print('Genre Column')\n",
    "display_table(free_google, 9)"
   ]
  },
  {
   "cell_type": "markdown",
   "metadata": {},
   "source": [
    "For Google Play let's answer this questions:\n",
    "\n",
    "* What are the most common genres?\n",
    "Apparently the category of apps that has the higher percentage is Family with 18.90 % of the english-speaking free apps, followed up by game, tools, bussines and life style.\n",
    "* Compare the patterns you see for the Google Play market with those you saw for the App Store market.\n",
    "The situation between the AppStore and Play Store is very different. While in the AppStore apps designed for fun have the biggest numbers, in the Play Store practical purpose apps are a majority as a whole, something that can be confirmed with the leading genres which are tools, education, business, education, productivity, from which we can conclude that in the playstore english-speaking free apps the majority are of practical purpose, but the difference is not that great between the two groups because the family category is conformed by many games for kids.\n",
    "* Can you recommend an app profile based on what you found so far? Do the frequency tables you generated reveal the most frequent app genres or what genres have the most users?\n",
    "So a general landscape is that in the AppleStore the apps are mainly for fun and in the play store the practical purpose apps have the lead but it is more balanced in terms of the difference between this two classes of apps. \n",
    "\n",
    "Now to know what are the apps with most users we need to make more analysis.\n",
    "\n",
    "For the AppStore we are going to use the total ratings of an app to define the total retings for each genre to get an idea about what are the most popular genres inside the AppStore"
   ]
  },
  {
   "cell_type": "code",
   "execution_count": 21,
   "metadata": {},
   "outputs": [
    {
     "name": "stdout",
     "output_type": "stream",
     "text": [
      "Genre: Social Networking\n",
      "Average Number of User Ratings: 53078.195804195806\n",
      "Genre: Photo & Video\n",
      "Average Number of User Ratings: 27249.892215568863\n",
      "Genre: Games\n",
      "Average Number of User Ratings: 18924.68896765618\n",
      "Genre: Music\n",
      "Average Number of User Ratings: 56482.02985074627\n",
      "Genre: Reference\n",
      "Average Number of User Ratings: 67447.9\n",
      "Genre: Health & Fitness\n",
      "Average Number of User Ratings: 19952.315789473683\n",
      "Genre: Weather\n",
      "Average Number of User Ratings: 47220.93548387097\n",
      "Genre: Utilities\n",
      "Average Number of User Ratings: 14010.100917431193\n",
      "Genre: Travel\n",
      "Average Number of User Ratings: 20216.01785714286\n",
      "Genre: Shopping\n",
      "Average Number of User Ratings: 18746.677685950413\n",
      "Genre: News\n",
      "Average Number of User Ratings: 15892.724137931034\n",
      "Genre: Navigation\n",
      "Average Number of User Ratings: 25972.05\n",
      "Genre: Lifestyle\n",
      "Average Number of User Ratings: 8978.308510638299\n",
      "Genre: Entertainment\n",
      "Average Number of User Ratings: 10822.961077844311\n",
      "Genre: Food & Drink\n",
      "Average Number of User Ratings: 20179.093023255813\n",
      "Genre: Sports\n",
      "Average Number of User Ratings: 20128.974683544304\n",
      "Genre: Book\n",
      "Average Number of User Ratings: 8498.333333333334\n",
      "Genre: Finance\n",
      "Average Number of User Ratings: 13522.261904761905\n",
      "Genre: Education\n",
      "Average Number of User Ratings: 6266.333333333333\n",
      "Genre: Productivity\n",
      "Average Number of User Ratings: 19053.887096774193\n",
      "Genre: Business\n",
      "Average Number of User Ratings: 6367.8\n",
      "Genre: Catalogs\n",
      "Average Number of User Ratings: 1779.5555555555557\n",
      "Genre: Medical\n",
      "Average Number of User Ratings: 459.75\n"
     ]
    }
   ],
   "source": [
    "prime_genere_ft = create_freqtable(free_apple, 11)\n",
    "for genre in prime_genere_ft:\n",
    "    total = 0\n",
    "    len_genre = 0\n",
    "    for app in free_apple:\n",
    "        genre_app = app[11]\n",
    "        if genre_app == genre:\n",
    "            n_ratings = float(app[5])\n",
    "            total += n_ratings\n",
    "            len_genre += 1\n",
    "    avg_number_ratings = total/len_genre\n",
    "    print('Genre: ' + genre)\n",
    "    print('Average Number of User Ratings: ' + str(avg_number_ratings))"
   ]
  },
  {
   "cell_type": "markdown",
   "metadata": {},
   "source": [
    "From this we can profile an app for the AppStore based on the numbers the app should be profiled inside the categories of Reference, Social & networking and Music, because this are the apps with the highest quantity of ratings, therefore, the more used by users in our app scope. Now, the numbers are not the only thing thata has to be taken in account, because some of this categories are so famous because they have some big apps like Facebook, Twitter, Instagram in Social & Networking and they have some monopoly over this genre, and for Music there are apps like Spotify that get the most users, so this are not optimal genre options for our app because of the competence level. The Reference genre appears to be the most appealing one because it has some famous apps in it but they don't generate a high threat because the difference of usage inside the genre, so an app profiled in this genre can be an option."
   ]
  },
  {
   "cell_type": "markdown",
   "metadata": {},
   "source": [
    "For the Play Store there is a column for installs of the app so we can use this to know what are the most popular kinds of app for it. The values in this column are open ended (100+, 1000+, etc) so it is not very precise but for our purposes we don't need complete precision, with this we can mke the analysis. We will assume the numbers as not open ended (100 for 100+, 1000 for 1000+, and so on). But first we need to make some cleaning because we can't transform this value to numbers with the commas and plus signs. For this we will make use of the function replace."
   ]
  },
  {
   "cell_type": "code",
   "execution_count": 23,
   "metadata": {},
   "outputs": [
    {
     "name": "stdout",
     "output_type": "stream",
     "text": [
      "App Genre: ART_AND_DESIGN\n",
      "Average installs: 1986335.0877192982\n",
      "App Genre: AUTO_AND_VEHICLES\n",
      "Average installs: 647317.8170731707\n",
      "App Genre: BEAUTY\n",
      "Average installs: 513151.88679245283\n",
      "App Genre: BOOKS_AND_REFERENCE\n",
      "Average installs: 8767811.894736841\n",
      "App Genre: BUSINESS\n",
      "Average installs: 1712290.1474201474\n",
      "App Genre: COMICS\n",
      "Average installs: 817657.2727272727\n",
      "App Genre: COMMUNICATION\n",
      "Average installs: 38456119.167247385\n",
      "App Genre: DATING\n",
      "Average installs: 854028.8303030303\n",
      "App Genre: EDUCATION\n",
      "Average installs: 1833495.145631068\n",
      "App Genre: ENTERTAINMENT\n",
      "Average installs: 11640705.88235294\n",
      "App Genre: EVENTS\n",
      "Average installs: 253542.22222222222\n",
      "App Genre: FINANCE\n",
      "Average installs: 1387692.475609756\n",
      "App Genre: FOOD_AND_DRINK\n",
      "Average installs: 1924897.7363636363\n",
      "App Genre: HEALTH_AND_FITNESS\n",
      "Average installs: 4188821.9853479853\n",
      "App Genre: HOUSE_AND_HOME\n",
      "Average installs: 1331540.5616438356\n",
      "App Genre: LIBRARIES_AND_DEMO\n",
      "Average installs: 638503.734939759\n",
      "App Genre: LIFESTYLE\n",
      "Average installs: 1437816.2687861272\n",
      "App Genre: GAME\n",
      "Average installs: 15588015.603248259\n",
      "App Genre: FAMILY\n",
      "Average installs: 3695641.8198090694\n",
      "App Genre: MEDICAL\n",
      "Average installs: 120550.61980830671\n",
      "App Genre: SOCIAL\n",
      "Average installs: 23253652.127118643\n",
      "App Genre: SHOPPING\n",
      "Average installs: 7036877.311557789\n",
      "App Genre: PHOTOGRAPHY\n",
      "Average installs: 17840110.40229885\n",
      "App Genre: SPORTS\n",
      "Average installs: 3638640.1428571427\n",
      "App Genre: TRAVEL_AND_LOCAL\n",
      "Average installs: 13984077.710144928\n",
      "App Genre: TOOLS\n",
      "Average installs: 10801391.298666667\n",
      "App Genre: PERSONALIZATION\n",
      "Average installs: 5201482.6122448975\n",
      "App Genre: PRODUCTIVITY\n",
      "Average installs: 16787331.344927534\n",
      "App Genre: PARENTING\n",
      "Average installs: 542603.6206896552\n",
      "App Genre: WEATHER\n",
      "Average installs: 5074486.197183099\n",
      "App Genre: VIDEO_PLAYERS\n",
      "Average installs: 24727872.452830188\n",
      "App Genre: NEWS_AND_MAGAZINES\n",
      "Average installs: 9549178.467741935\n",
      "App Genre: MAPS_AND_NAVIGATION\n",
      "Average installs: 4056941.7741935486\n"
     ]
    }
   ],
   "source": [
    "category_ft = create_freqtable(free_google, 1)\n",
    "for category in category_ft:\n",
    "    total = 0\n",
    "    len_category = 0\n",
    "    for app in free_google:\n",
    "        category_app = app[1]\n",
    "        if category_app == category:\n",
    "            installs = app[5]\n",
    "            installs = installs.replace('+','')\n",
    "            installs = installs.replace(',','')\n",
    "            installs = float(installs)\n",
    "            total += installs\n",
    "            len_category += 1\n",
    "    avg_installs = total/len_category\n",
    "    print('App Genre: ' + category)\n",
    "    print('Average installs: ' + str(avg_installs))\n",
    "    \n",
    "    "
   ]
  },
  {
   "cell_type": "markdown",
   "metadata": {},
   "source": [
    "So here we can see that the most popular genre is the communication one but most likely happens the same as in the App Store, it is biased by the influence of big apps like Whatsapp, Facebook, etc. The category of Books and Reference, which is compatible with the chosen genre in the App Store profiling appears to be quiet popular with 8,767,811 installs. Therefore, we can conclude that a good niche for the app in both stores is Books and Reference because it is not biased by the influence of a big competitor and there are many kinds of apps that can be encapsulated in this genres which will give an opportunity to stand out in this market. Maybe a book could be a viable option. "
   ]
  }
 ],
 "metadata": {
  "kernelspec": {
   "display_name": "Python 3",
   "language": "python",
   "name": "python3"
  },
  "language_info": {
   "codemirror_mode": {
    "name": "ipython",
    "version": 3
   },
   "file_extension": ".py",
   "mimetype": "text/x-python",
   "name": "python",
   "nbconvert_exporter": "python",
   "pygments_lexer": "ipython3",
   "version": "3.7.4"
  }
 },
 "nbformat": 4,
 "nbformat_minor": 2
}
